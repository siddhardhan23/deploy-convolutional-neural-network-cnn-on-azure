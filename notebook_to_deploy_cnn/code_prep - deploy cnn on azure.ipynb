{
 "cells": [
  {
   "cell_type": "markdown",
   "id": "8cca2413-ee7c-4a9d-90f9-ee95893d96ec",
   "metadata": {},
   "source": [
    "**Installing the required libraries**"
   ]
  },
  {
   "cell_type": "code",
   "execution_count": 3,
   "id": "370e990a-2ad3-4687-90d0-2393e2c72b3f",
   "metadata": {},
   "outputs": [],
   "source": [
    "#!pip install azure-ai-ml azure-identity"
   ]
  },
  {
   "cell_type": "markdown",
   "id": "fb97b8c5-1217-48dd-8eb1-8045c0a4d8cb",
   "metadata": {},
   "source": [
    "**Importing the dependencies**"
   ]
  },
  {
   "cell_type": "code",
   "execution_count": 4,
   "id": "010a3b41-c11c-466e-a983-1841dad99044",
   "metadata": {},
   "outputs": [],
   "source": [
    "import os\n",
    "import json\n",
    "import datetime\n",
    "\n",
    "from azure.ai.ml import MLClient\n",
    "from azure.ai.ml.entities import (\n",
    "    ManagedOnlineEndpoint,\n",
    "    ManagedOnlineDeployment,\n",
    "    Model,\n",
    "    Environment,\n",
    "    CodeConfiguration,\n",
    ")\n",
    "from azure.identity import DefaultAzureCredential"
   ]
  },
  {
   "cell_type": "markdown",
   "id": "f921f396-62c3-4346-a2d5-e2def852d48e",
   "metadata": {},
   "source": [
    "**Configure the resource details**"
   ]
  },
  {
   "cell_type": "code",
   "execution_count": 8,
   "id": "1931be6a-1f11-4d6f-8377-b0067555fb4c",
   "metadata": {},
   "outputs": [],
   "source": [
    "# laoding the configuration file\n",
    "config_file_path = \"config.json\"\n",
    "\n",
    "# Read JSON data into a dictionary\n",
    "config_data = json.load(open(config_file_path))\n",
    "\n",
    "subscription_id = config_data[\"subscription_id\"]\n",
    "resource_group = config_data[\"resource_group\"]  \n",
    "workspace = config_data[\"workspace\"]\n",
    "location = config_data[\"location\"]"
   ]
  },
  {
   "cell_type": "code",
   "execution_count": 9,
   "id": "687fc2eb-8ff1-4fac-866a-7b0968a34721",
   "metadata": {},
   "outputs": [
    {
     "name": "stdout",
     "output_type": "stream",
     "text": [
      "deploy-plant-dis-cnn-rg\n",
      "deploy-lant-dis-cnn-ws\n",
      "westus\n"
     ]
    }
   ],
   "source": [
    "print(resource_group)\n",
    "print(workspace)\n",
    "print(location)"
   ]
  },
  {
   "cell_type": "markdown",
   "id": "47621ca3-2f82-49a0-83f0-858f6dde431f",
   "metadata": {},
   "source": [
    "**Resource_Group and Workspace**"
   ]
  },
  {
   "cell_type": "markdown",
   "id": "186b9cd0-0d1c-4132-90c0-34bb802c179f",
   "metadata": {},
   "source": [
    "**NOTE: Create ResourceGroup and AzureMachineLeanringWorkspace with these names**"
   ]
  },
  {
   "cell_type": "markdown",
   "id": "b9aee796-6b55-4b20-b82c-eb67915b8e7d",
   "metadata": {},
   "source": [
    "(You can also try creating the resource group and workspace from python azure sdk)"
   ]
  },
  {
   "cell_type": "code",
   "execution_count": 10,
   "id": "55ddf1ca-4236-4f33-9c99-637292db804b",
   "metadata": {},
   "outputs": [],
   "source": [
    "# get a handle to the workspace\n",
    "ml_client = MLClient(\n",
    "    DefaultAzureCredential(), subscription_id, resource_group, workspace\n",
    ")"
   ]
  },
  {
   "cell_type": "code",
   "execution_count": 11,
   "id": "662a24ae-0af1-45c3-9f66-10dca2baf343",
   "metadata": {},
   "outputs": [],
   "source": [
    "# Define an endpoint name\n",
    "endpoint_name = \"endpt-plant-dis-\" + datetime.datetime.now().strftime(\"%m%d%H%M%f\")\n",
    "\n",
    "# create an online endpoint\n",
    "endpoint = ManagedOnlineEndpoint(\n",
    "    name=endpoint_name,\n",
    "    description=\"This is an online endpoint for predicting Plant diseases\",\n",
    "    auth_mode=\"aml_token\"\n",
    ")"
   ]
  },
  {
   "cell_type": "code",
   "execution_count": 12,
   "id": "2ca52fe3-fc21-4cc4-96a7-a9b176314376",
   "metadata": {},
   "outputs": [
    {
     "name": "stdout",
     "output_type": "stream",
     "text": [
      "endpt-plant-dis-01272210986922\n"
     ]
    }
   ],
   "source": [
    "print(endpoint_name)"
   ]
  },
  {
   "cell_type": "markdown",
   "id": "dc08bddd-ccfc-49a1-a57e-423eef9f9950",
   "metadata": {},
   "source": [
    "**Configuring the environment**"
   ]
  },
  {
   "cell_type": "markdown",
   "id": "1469a73c-8129-4e6e-9353-19bed9ea687e",
   "metadata": {},
   "source": [
    "**NOTE: Check the quotas to make sure that instance type is available in the chosen region**"
   ]
  },
  {
   "cell_type": "markdown",
   "id": "5ffe300c-813d-40bf-925f-eb6ab8762de4",
   "metadata": {},
   "source": [
    "vm sku list: https://learn.microsoft.com/en-us/azure/machine-learning/reference-managed-online-endpoints-vm-sku-list?view=azureml-api-2"
   ]
  },
  {
   "cell_type": "code",
   "execution_count": 13,
   "id": "8b119cec-f365-4b60-9dbd-bb19ebbb5c9b",
   "metadata": {},
   "outputs": [],
   "source": [
    "model = Model(path=\"trained_model/plant_disease_prediction_model.h5\")\n",
    "env = Environment(\n",
    "    conda_file=\"conda.yaml\",\n",
    "    image=\"mcr.microsoft.com/azureml/openmpi4.1.0-ubuntu20.04:latest\",\n",
    ")\n",
    "\n",
    "blue_deployment = ManagedOnlineDeployment(\n",
    "    name=\"blue\",\n",
    "    endpoint_name=endpoint_name,\n",
    "    model=model,\n",
    "    environment=env,\n",
    "    code_configuration=CodeConfiguration(\n",
    "        code=\"onlinescoring\", scoring_script=\"score.py\"\n",
    "    ),\n",
    "    instance_type=\"Standard_NC4as_T4_v3\",\n",
    "    instance_count=1,\n",
    ")\n"
   ]
  },
  {
   "cell_type": "markdown",
   "id": "4914a75d-4a56-4de6-b0e3-93259882b276",
   "metadata": {},
   "source": [
    "**Creating the endpoint**"
   ]
  },
  {
   "cell_type": "code",
   "execution_count": 14,
   "id": "51ae83c1-24f1-4d85-a4ff-7a2dcf927bf5",
   "metadata": {},
   "outputs": [
    {
     "name": "stdout",
     "output_type": "stream",
     "text": [
      "CPU times: user 677 ms, sys: 17.3 ms, total: 695 ms\n",
      "Wall time: 5min 41s\n"
     ]
    }
   ],
   "source": [
    "%%time\n",
    "create_endpoint = ml_client.online_endpoints.begin_create_or_update(endpoint).result()"
   ]
  },
  {
   "cell_type": "markdown",
   "id": "3d96ab98-f3af-4e05-a697-b5772d9150fe",
   "metadata": {},
   "source": [
    "**Deploying the endpoint**"
   ]
  },
  {
   "cell_type": "code",
   "execution_count": 15,
   "id": "4d8bf0fb-42c3-4b84-89e2-fff7459e0b3a",
   "metadata": {},
   "outputs": [
    {
     "name": "stderr",
     "output_type": "stream",
     "text": [
      "Check: endpoint endpt-plant-dis-01272210986922 exists\n",
      "\u001b[32mUploading onlinescoring (0.0 MBs): 100%|██| 4700/4700 [00:01<00:00, 4564.31it/s]\u001b[0m\n",
      "\u001b[39m\n",
      "\n",
      "\u001b[32mUploading plant_disease_prediction_model.h5\u001b[32m (< 1 MB): 499MB [00:42, 11.8MB/s]   \u001b[0m\n",
      "\u001b[39m\n",
      "\n"
     ]
    },
    {
     "name": "stdout",
     "output_type": "stream",
     "text": [
      "..............................................................................................................................................CPU times: user 9.24 s, sys: 2.12 s, total: 11.4 s\n",
      "Wall time: 14min 9s\n"
     ]
    }
   ],
   "source": [
    "%%time\n",
    "deploy_endpoint = ml_client.online_deployments.begin_create_or_update(blue_deployment).result()"
   ]
  },
  {
   "cell_type": "markdown",
   "id": "16e203cf-1558-4ea4-9967-37821b1968d8",
   "metadata": {},
   "source": [
    "**You can print create_endpoint and deploy_endpoint and cjheck teh details**"
   ]
  },
  {
   "cell_type": "code",
   "execution_count": 16,
   "id": "00eca5e7-100b-4c41-9455-284ed7cf5ad6",
   "metadata": {},
   "outputs": [],
   "source": [
    "# blue deployment takes 100 traffic\n",
    "endpoint.traffic = {\"blue\": 100}\n",
    "add_traffic = ml_client.online_endpoints.begin_create_or_update(endpoint).result()"
   ]
  },
  {
   "cell_type": "markdown",
   "id": "5a8eca8b-8b77-4d84-94d2-d3807bfe3ef9",
   "metadata": {},
   "source": [
    "**Get details of the endpoint**"
   ]
  },
  {
   "cell_type": "code",
   "execution_count": 17,
   "id": "3bf6e374-20c9-43d6-94ac-ed14556c5971",
   "metadata": {},
   "outputs": [
    {
     "name": "stdout",
     "output_type": "stream",
     "text": [
      "{'blue': 100}\n",
      "https://endpt-plant-dis-01272210986922.westus.inference.ml.azure.com/score\n"
     ]
    }
   ],
   "source": [
    "# Get the details for online endpoint\n",
    "endpoint = ml_client.online_endpoints.get(name=endpoint_name)\n",
    "\n",
    "# existing traffic details\n",
    "print(endpoint.traffic)\n",
    "\n",
    "# Get the scoring URI\n",
    "print(endpoint.scoring_uri)"
   ]
  },
  {
   "cell_type": "markdown",
   "id": "ef347d7f-3872-44d7-a119-bd82b3737d4f",
   "metadata": {},
   "source": [
    "**Testing the endpoint**"
   ]
  },
  {
   "cell_type": "code",
   "execution_count": 18,
   "id": "d202508e-43b8-4e6f-a2d3-9d7b46129d06",
   "metadata": {},
   "outputs": [],
   "source": [
    "import base64\n",
    "import json\n",
    "\n",
    "# Read the image\n",
    "with open('test_apple_black_rot.JPG', 'rb') as image_file:\n",
    "    image_data = image_file.read()\n",
    "\n",
    "# Convert image to base64\n",
    "image_base64 = base64.b64encode(image_data).decode('utf-8')\n",
    "\n",
    "json_request = json.dumps({'data': image_base64})\n",
    "\n",
    "# Save this JSON as a file\n",
    "json_file_path = 'sample-request.json'  # Specify your desired path for the JSON file\n",
    "with open(json_file_path, 'w') as json_file:\n",
    "    json_file.write(json_request)\n",
    "\n",
    "\n",
    "# test the blue deployment with some sample data\n",
    "response = ml_client.online_endpoints.invoke(\n",
    "    endpoint_name=endpoint_name,\n",
    "    deployment_name=\"blue\",\n",
    "    request_file=\"sample-request.json\",\n",
    ")"
   ]
  },
  {
   "cell_type": "code",
   "execution_count": 19,
   "id": "116ba220-0707-4449-88c5-c267e2dfbc67",
   "metadata": {},
   "outputs": [
    {
     "name": "stdout",
     "output_type": "stream",
     "text": [
      "\"{\\\"Predicted Class Name\\\": \\\"Apple___Black_rot\\\"}\"\n"
     ]
    }
   ],
   "source": [
    "print(response)"
   ]
  },
  {
   "cell_type": "code",
   "execution_count": 20,
   "id": "64a2d034-dcdd-4419-8482-92abe505585b",
   "metadata": {},
   "outputs": [
    {
     "name": "stdout",
     "output_type": "stream",
     "text": [
      "{\"Predicted Class Name\": \"Apple___Black_rot\"}\n"
     ]
    }
   ],
   "source": [
    "# Convert the string to a dictionary\n",
    "prediction = json.loads(response)\n",
    "\n",
    "# Now dict_data is a Python dictionary\n",
    "print(prediction)"
   ]
  },
  {
   "cell_type": "markdown",
   "id": "30392e0c-8e33-4498-bba5-f91e3a681abd",
   "metadata": {},
   "source": [
    "get AML token: https://learn.microsoft.com/en-us/rest/api/azureml/online-endpoints/get-token?view=rest-azureml-2023-10-01&tabs=HTTP"
   ]
  },
  {
   "cell_type": "code",
   "execution_count": 21,
   "id": "71204908-4259-43f7-b244-5ead41703ed9",
   "metadata": {},
   "outputs": [
    {
     "name": "stdout",
     "output_type": "stream",
     "text": [
      "deploy-plant-dis-cnn-rg\n",
      "deploy-lant-dis-cnn-ws\n",
      "endpt-plant-dis-01272210986922\n",
      "deploy-plant-dis-cnn-rg\n"
     ]
    }
   ],
   "source": [
    "print(resource_group)\n",
    "print(workspace)\n",
    "print(endpoint_name)\n",
    "print(resource_group)"
   ]
  },
  {
   "cell_type": "markdown",
   "id": "04d5d979-fa21-463d-aedc-c84930377990",
   "metadata": {},
   "source": [
    "Getting the logs"
   ]
  },
  {
   "cell_type": "code",
   "execution_count": null,
   "id": "a9db2a0d-3cfa-42c7-8982-d671dc5f36f0",
   "metadata": {
    "scrolled": true
   },
   "outputs": [],
   "source": [
    "ml_client.online_deployments.get_logs(\n",
    "    name=\"blue\", endpoint_name=endpoint_name, lines=50\n",
    ")"
   ]
  },
  {
   "cell_type": "markdown",
   "id": "439c26fe-2523-42a5-b739-c934da1c0891",
   "metadata": {},
   "source": [
    "Deleting the endpoint"
   ]
  },
  {
   "cell_type": "code",
   "execution_count": null,
   "id": "9f862b2e-e3d9-4656-9075-e9316a6bafb9",
   "metadata": {},
   "outputs": [],
   "source": [
    "# deleting the endpoint\n",
    "#ml_client.online_endpoints.begin_delete(name=endpoint_name)"
   ]
  },
  {
   "cell_type": "code",
   "execution_count": null,
   "id": "8870836c-62ea-44e2-a594-933a0a867a07",
   "metadata": {},
   "outputs": [],
   "source": []
  },
  {
   "cell_type": "markdown",
   "id": "41f0511d-dc1b-4d49-8be4-470cd4d7049a",
   "metadata": {},
   "source": [
    "**NOTE: Clean up the resources**"
   ]
  },
  {
   "cell_type": "code",
   "execution_count": null,
   "id": "0978bc51-ea6a-405b-92e6-b8d55a693817",
   "metadata": {},
   "outputs": [],
   "source": []
  },
  {
   "cell_type": "code",
   "execution_count": null,
   "id": "cc1e574b-3eab-4b57-aa41-2ae3223bee83",
   "metadata": {},
   "outputs": [],
   "source": []
  }
 ],
 "metadata": {
  "kernelspec": {
   "display_name": "Python 3 (ipykernel)",
   "language": "python",
   "name": "python3"
  },
  "language_info": {
   "codemirror_mode": {
    "name": "ipython",
    "version": 3
   },
   "file_extension": ".py",
   "mimetype": "text/x-python",
   "name": "python",
   "nbconvert_exporter": "python",
   "pygments_lexer": "ipython3",
   "version": "3.10.12"
  }
 },
 "nbformat": 4,
 "nbformat_minor": 5
}
